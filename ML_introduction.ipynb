{
  "nbformat": 4,
  "nbformat_minor": 0,
  "metadata": {
    "colab": {
      "name": "ML-introduction.ipynb",
      "provenance": [],
      "authorship_tag": "ABX9TyN8njxCpw/bmhX0w9RayiVL",
      "include_colab_link": true
    },
    "kernelspec": {
      "name": "python3",
      "display_name": "Python 3"
    }
  },
  "cells": [
    {
      "cell_type": "markdown",
      "metadata": {
        "id": "view-in-github",
        "colab_type": "text"
      },
      "source": [
        "<a href=\"https://colab.research.google.com/github/eneskilicarslan/HandWritingGuesser/blob/main/ML_introduction.ipynb\" target=\"_parent\"><img src=\"https://colab.research.google.com/assets/colab-badge.svg\" alt=\"Open In Colab\"/></a>"
      ]
    },
    {
      "cell_type": "code",
      "metadata": {
        "id": "ka3612MZQ7T1"
      },
      "source": [
        "from keras.datasets import mnist"
      ],
      "execution_count": 32,
      "outputs": []
    },
    {
      "cell_type": "code",
      "metadata": {
        "id": "KMCxMfg1Q_cS"
      },
      "source": [
        "(X_train, y_train), (x_test, y_test) = mnist.load_data()"
      ],
      "execution_count": 23,
      "outputs": []
    },
    {
      "cell_type": "code",
      "metadata": {
        "id": "rbNPNvK_RaOK"
      },
      "source": [
        "from keras import models\r\n",
        "from keras import layers"
      ],
      "execution_count": 24,
      "outputs": []
    },
    {
      "cell_type": "markdown",
      "metadata": {
        "id": "mMGPqHMKWwQz"
      },
      "source": [
        "MODEL"
      ]
    },
    {
      "cell_type": "code",
      "metadata": {
        "id": "39ujoIz8RmlB"
      },
      "source": [
        "model = models.Sequential()\r\n",
        "my_input_shape = (28*28,)\r\n",
        "model.add(layers.Dense(256, activation='relu', input_shape=my_input_shape))\r\n",
        "model.add(layers.Dense(10, activation='softmax'))"
      ],
      "execution_count": 25,
      "outputs": []
    },
    {
      "cell_type": "code",
      "metadata": {
        "id": "AFXDCf9NSFHp"
      },
      "source": [
        "model.compile(optimizer='adam', \r\n",
        "              loss='categorical_crossentropy',\r\n",
        "              metrics=['accuracy'])\r\n"
      ],
      "execution_count": 26,
      "outputs": []
    },
    {
      "cell_type": "markdown",
      "metadata": {
        "id": "r6_URCddW-Hc"
      },
      "source": [
        "Normalization"
      ]
    },
    {
      "cell_type": "code",
      "metadata": {
        "id": "sT1NobHDUeuF"
      },
      "source": [
        "X_train = X_train.reshape((60000, 28 * 28))\r\n",
        "X_train = X_train.astype('float32') / 255\r\n",
        "\r\n",
        "x_test = x_test.reshape((10000, 28 * 28))\r\n",
        "x_test = x_test.astype('float32') / 255"
      ],
      "execution_count": 27,
      "outputs": []
    },
    {
      "cell_type": "markdown",
      "metadata": {
        "id": "wf31MEnIVWnP"
      },
      "source": [
        "Categorical Approach"
      ]
    },
    {
      "cell_type": "code",
      "metadata": {
        "id": "gVEjdxISU-zQ"
      },
      "source": [
        "from keras.utils import to_categorical\r\n",
        "\r\n",
        "y_train = to_categorical(y_train)\r\n",
        "y_test = to_categorical(y_test)"
      ],
      "execution_count": 28,
      "outputs": []
    },
    {
      "cell_type": "markdown",
      "metadata": {
        "id": "IaIXdbAFVcs1"
      },
      "source": [
        "FIT"
      ]
    },
    {
      "cell_type": "code",
      "metadata": {
        "colab": {
          "base_uri": "https://localhost:8080/"
        },
        "id": "2IEQmJJMVUZ3",
        "outputId": "67aa9e5c-211e-49ce-df33-b5c181cc15f0"
      },
      "source": [
        "model.fit(X_train, y_train, epochs=3, batch_size=64)"
      ],
      "execution_count": 29,
      "outputs": [
        {
          "output_type": "stream",
          "text": [
            "Epoch 1/3\n",
            "938/938 [==============================] - 3s 3ms/step - loss: 0.4377 - accuracy: 0.8798\n",
            "Epoch 2/3\n",
            "938/938 [==============================] - 3s 3ms/step - loss: 0.1169 - accuracy: 0.9667\n",
            "Epoch 3/3\n",
            "938/938 [==============================] - 3s 3ms/step - loss: 0.0723 - accuracy: 0.9796\n"
          ],
          "name": "stdout"
        },
        {
          "output_type": "execute_result",
          "data": {
            "text/plain": [
              "<tensorflow.python.keras.callbacks.History at 0x7f669d8068d0>"
            ]
          },
          "metadata": {
            "tags": []
          },
          "execution_count": 29
        }
      ]
    },
    {
      "cell_type": "markdown",
      "metadata": {
        "id": "Acza_MDpWZsc"
      },
      "source": [
        "TEST"
      ]
    },
    {
      "cell_type": "code",
      "metadata": {
        "colab": {
          "base_uri": "https://localhost:8080/"
        },
        "id": "T_RhI2-LWj8-",
        "outputId": "3d561b53-5216-428e-fc03-1932ec1ea48c"
      },
      "source": [
        "test_loss, test_acc = model.evaluate(x_test, y_test)\r\n",
        "print(\"test_acc:\", test_acc)"
      ],
      "execution_count": 30,
      "outputs": [
        {
          "output_type": "stream",
          "text": [
            "313/313 [==============================] - 1s 1ms/step - loss: 0.0765 - accuracy: 0.9761\n",
            "test_acc: 0.9761000275611877\n"
          ],
          "name": "stdout"
        }
      ]
    },
    {
      "cell_type": "code",
      "metadata": {
        "id": "PxV7NtBzXhhv"
      },
      "source": [
        ""
      ],
      "execution_count": null,
      "outputs": []
    }
  ]
}